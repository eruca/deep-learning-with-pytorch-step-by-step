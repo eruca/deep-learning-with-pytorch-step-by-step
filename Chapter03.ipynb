{
 "cells": [
  {
   "cell_type": "code",
   "execution_count": 2,
   "metadata": {},
   "outputs": [],
   "source": [
    "import numpy as np\n",
    "import datetime\n",
    "\n",
    "import torch\n",
    "import torch.nn as nn\n",
    "import torch.optim as optim\n",
    "import torch.functional as F\n",
    "from torch.utils.data import DataLoader, TensorDataset\n",
    "\n",
    "from sklearn.datasets import make_moons\n",
    "from sklearn.preprocessing import StandardScaler\n",
    "from sklearn.model_selection import train_test_split\n",
    "from sklearn.metrics import confusion_matrix, roc_curve, precision_recall_curve, auc\n",
    "\n",
    "from stepbystep.v0 import StepByStep\n",
    "\n",
    "import matplotlib.pyplot as plt\n",
    "%matplotlib inline\n",
    "plt.style.use('fivethirtyeight')\n"
   ]
  },
  {
   "cell_type": "code",
   "execution_count": 3,
   "metadata": {},
   "outputs": [
    {
     "name": "stdout",
     "output_type": "stream",
     "text": [
      "(100, 2) (100,)\n"
     ]
    }
   ],
   "source": [
    "X, y = make_moons(n_samples=100, noise=0.3, random_state=0)\n",
    "print(X.shape, y.shape)\n",
    "X_train, X_val, y_train, y_val = train_test_split(X, y, test_size=0.2, random_state=13)"
   ]
  },
  {
   "cell_type": "code",
   "execution_count": 4,
   "metadata": {},
   "outputs": [],
   "source": [
    "sc = StandardScaler()\n",
    "sc.fit(X_train)\n",
    "\n",
    "X_train = sc.transform(X_train)\n",
    "X_val = sc.transform(X_val)"
   ]
  },
  {
   "cell_type": "code",
   "execution_count": 5,
   "metadata": {},
   "outputs": [],
   "source": [
    "torch.manual_seed(13)\n",
    "\n",
    "# 从Numpy数据构建的张量\n",
    "x_train_tensor = torch.as_tensor(X_train).float()\n",
    "y_train_tensor = torch.as_tensor(y_train.reshape(-1, 1)).float()\n",
    "\n",
    "x_val_tensor = torch.as_tensor(X_val).float()\n",
    "y_val_tensor = torch.as_tensor(y_val.reshape(-1, 1)).float()\n",
    "\n",
    "# 构建包含所有数据点的数据集\n",
    "train_dataset = TensorDataset(x_train_tensor, y_train_tensor)\n",
    "val_dataset = TensorDataset(x_val_tensor, y_val_tensor)\n",
    "\n",
    "# 构建每个集合的加载器\n",
    "train_loader = DataLoader(dataset=train_dataset, batch_size=16, shuffle=True)\n",
    "val_loader = DataLoader(dataset=val_dataset, batch_size=16)"
   ]
  },
  {
   "cell_type": "code",
   "execution_count": 8,
   "metadata": {},
   "outputs": [
    {
     "name": "stdout",
     "output_type": "stream",
     "text": [
      "tensor([0.9000]) tensor(-0.1054)\n",
      "tensor([0.2000]) tensor(-0.2231)\n"
     ]
    },
    {
     "data": {
      "text/plain": [
       "tensor(0.1643)"
      ]
     },
     "execution_count": 8,
     "metadata": {},
     "output_type": "execute_result"
    }
   ],
   "source": [
    "dummy_labels = torch.tensor([1.0, 0.0])\n",
    "dummy_predictions = torch.tensor([.9, .2])\n",
    "\n",
    "# 正类\n",
    "positive_pred = dummy_predictions[dummy_labels == 1]\n",
    "first_summation = torch.log(positive_pred).sum()\n",
    "print(positive_pred, first_summation)\n",
    "\n",
    "# 负类\n",
    "negative_pred = dummy_predictions[dummy_labels == 0]\n",
    "second_summation = torch.log(1 - negative_pred).sum()\n",
    "print(negative_pred, second_summation)\n",
    "\n",
    "n_total = dummy_labels.size(0)\n",
    "\n",
    "loss = -(first_summation + second_summation) / n_total\n",
    "loss"
   ]
  },
  {
   "cell_type": "code",
   "execution_count": 11,
   "metadata": {},
   "outputs": [],
   "source": [
    "logit1 = torch.log(torch.tensor([0.9/0.1]))\n",
    "logit2 = torch.log(torch.tensor([0.2/0.8]))"
   ]
  },
  {
   "cell_type": "code",
   "execution_count": 12,
   "metadata": {},
   "outputs": [
    {
     "data": {
      "text/plain": [
       "(tensor([1., 0., 0., 0.]), tensor([ 2.1972, -1.3863, -1.3863, -1.3863]))"
      ]
     },
     "execution_count": 12,
     "metadata": {},
     "output_type": "execute_result"
    }
   ],
   "source": [
    "dummy_imb_labels = torch.tensor([1.0, 0, 0, 0])\n",
    "dummy_imb_logits = torch.tensor([logit1, logit2, logit2, logit2])\n",
    "dummy_imb_labels, dummy_imb_logits"
   ]
  },
  {
   "cell_type": "code",
   "execution_count": 13,
   "metadata": {},
   "outputs": [
    {
     "data": {
      "text/plain": [
       "tensor([3.])"
      ]
     },
     "execution_count": 13,
     "metadata": {},
     "output_type": "execute_result"
    }
   ],
   "source": [
    "n_neg = (dummy_imb_labels == 0).sum().float()\n",
    "n_pos = (dummy_imb_labels == 1).sum().float()\n",
    "\n",
    "pos_weight = (n_neg / n_pos).view(1,)\n",
    "pos_weight"
   ]
  },
  {
   "cell_type": "code",
   "execution_count": 16,
   "metadata": {},
   "outputs": [
    {
     "data": {
      "text/plain": [
       "tensor(0.2464)"
      ]
     },
     "execution_count": 16,
     "metadata": {},
     "output_type": "execute_result"
    }
   ],
   "source": [
    "loss_fn_imb = nn.BCEWithLogitsLoss(\n",
    "    reduction='mean',\n",
    "    pos_weight=pos_weight\n",
    ")\n",
    "\n",
    "loss = loss_fn_imb(dummy_imb_logits, dummy_imb_labels)\n",
    "loss"
   ]
  },
  {
   "cell_type": "code",
   "execution_count": 17,
   "metadata": {},
   "outputs": [
    {
     "data": {
      "text/plain": [
       "tensor([0.1643])"
      ]
     },
     "execution_count": 17,
     "metadata": {},
     "output_type": "execute_result"
    }
   ],
   "source": [
    "loss_fn_imb2 = nn.BCEWithLogitsLoss(\n",
    "    reduction='sum',\n",
    "    pos_weight=pos_weight\n",
    ")\n",
    "\n",
    "loss = loss_fn_imb2(dummy_imb_logits, dummy_imb_labels)\n",
    "loss = loss / (pos_weight * n_pos + n_neg)\n",
    "loss"
   ]
  },
  {
   "cell_type": "code",
   "execution_count": 18,
   "metadata": {},
   "outputs": [],
   "source": [
    "lr = 0.1\n",
    "\n",
    "torch.manual_seed(42)\n",
    "model = nn.Sequential()\n",
    "model.add_module(\"linear\", nn.Linear(2, 1))\n",
    "\n",
    "optimizer = optim.SGD(model.parameters(), lr=lr)\n",
    "\n",
    "loss_fn = nn.BCEWithLogitsLoss(reduction='mean')"
   ]
  },
  {
   "cell_type": "code",
   "execution_count": 19,
   "metadata": {},
   "outputs": [],
   "source": [
    "sbs = StepByStep(model=model, loss_fn=loss_fn, optimizer=optimizer)\n",
    "sbs.set_loaders(train_loader, val_loader)\n",
    "\n",
    "sbs.train(n_epochs=200)"
   ]
  },
  {
   "cell_type": "code",
   "execution_count": 20,
   "metadata": {},
   "outputs": [
    {
     "data": {
      "image/png": "[encoded data removed]",
      "text/plain": [
       "<Figure size 1000x400 with 1 Axes>"
      ]
     },
     "metadata": {},
     "output_type": "display_data"
    }
   ],
   "source": [
    "fig = sbs.plot_losses()"
   ]
  },
  {
   "cell_type": "code",
   "execution_count": 21,
   "metadata": {},
   "outputs": [
    {
     "name": "stdout",
     "output_type": "stream",
     "text": [
      "OrderedDict([('linear.weight', tensor([[ 1.2038, -1.9279]])), ('linear.bias', tensor([-0.0642]))])\n"
     ]
    }
   ],
   "source": [
    "print(model.state_dict())"
   ]
  },
  {
   "cell_type": "code",
   "execution_count": null,
   "metadata": {},
   "outputs": [],
   "source": []
  }
 ],
 "metadata": {
  "kernelspec": {
   "display_name": "pytorchbook",
   "language": "python",
   "name": "python3"
  },
  "language_info": {
   "codemirror_mode": {
    "name": "ipython",
    "version": 3
   },
   "file_extension": ".py",
   "mimetype": "text/x-python",
   "name": "python",
   "nbconvert_exporter": "python",
   "pygments_lexer": "ipython3",
   "version": "3.10.15"
  }
 },
 "nbformat": 4,
 "nbformat_minor": 2
}
